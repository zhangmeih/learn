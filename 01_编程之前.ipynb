{
 "cells": [
  {
   "cell_type": "markdown",
   "metadata": {},
   "source": [
    "## 下载和安装Python\n",
    "官方版本：[https://www.python.org/downloads/](https://www.python.org/downloads/)\n",
    "\n",
    "miniconda: [https://docs.conda.io/en/latest/miniconda.html](https://docs.conda.io/en/latest/miniconda.html)\n",
    "\n",
    "------\n",
    "\n",
    "## Virtual Environments (虚拟环境)\n",
    "### 什么是虚拟环境\n",
    "Python的虚拟环境本质上是一个文件夹，里面包含的是一个没有安装任何其他库和框架的、干净的Python。事实上它是你上一步安装的Python\n",
    "的一个复制，但是非常干净，没有安装其它任何库，你可以根据需要建立多个虚拟环境。\n",
    "\n",
    "### 为什么要建立虚拟环境\n",
    "Python现在是一个庞大的生态系统，有着包罗万象的库，每个库又有着无数不同的版本，而且每个库由不同的组织和人员编写，会存在不同库之间兼容性的问题。那么问题来了，\n",
    "当你同时做两个项目，一个项目需要numpy库的版本1，另外一个项目需要版本2，这时候你怎么解决？我们需要创建两个不同的虚拟环境分别用于不同的项目，\n",
    "在不同的虚拟环境下安装项目所需要的库，这样可以防止不同项目所用Python库的交叉影响。所以虚拟环境对项目和版本管理至关重要，是确保代码正常运行的重要手段。\n",
    "\n",
    "### 怎样建立虚拟环境\n",
    "以Windows为例：\n",
    "*  普通Python\n",
    "\n",
    "打开命令行窗口，并输入：\n",
    "\n",
    "```bash\n",
    "path-to-python.exe -m venv my_project\n",
    "```\n",
    "```path to python.exe``` 是安装的Python的可执行文件。```my_project``` 是自定义的虚拟环境的命名，会建立在命令行\n",
    "窗口的当前文件夹。\n",
    "\n",
    "*  miniconda\n",
    "\n",
    "打开Anaconda的命令行窗口，并输入：\n",
    "\n",
    "```bash\n",
    "conda create -n my_project\n",
    "```\n",
    "所创建的虚拟环境在miniconda的根目录下的envs文件夹。\n",
    "\n",
    "虚拟环境（my_project文件夹）里的内容如图所示：\n",
    "\n",
    "<img src=\"./img/envs.jpg\"/>\n",
    "\n",
    "------\n",
    "\n",
    "## 第一个Python程序\n",
    "Python代码一般是通过Python的解释器（interpreter）直接执行，不需要将源代码编译成机器码。有多种方法可以运行Python程序。\n",
    "* 交互式模式\n",
    "\n",
    "通过交互式的运行环境来执行Python代码，比如使用[IPython](https://ipython.org/). 此种方式不需要创建Python文件 (_.py_)，可用于快速的简单的\n",
    "代码测试。"
   ]
  },
  {
   "cell_type": "code",
   "execution_count": 1,
   "metadata": {
    "pycharm": {
     "name": "#%%\n"
    }
   },
   "outputs": [],
   "source": [
    "from datetime import date  # before we use a package, we need to import it first.\n",
    "\n",
    "def get_year_of_today():  # a function to get the year number of today\n",
    "    return date.today().year\n",
    "\n",
    "print(\"This year is %s.\" % get_year_of_today())  # call function get_year_of_today and print the result."
   ]
  },
  {
   "cell_type": "markdown",
   "metadata": {},
   "source": [
    "可以用```dir```函数来查看被导入的模块所包含的信息："
   ]
  },
  {
   "cell_type": "code",
   "execution_count": 2,
   "metadata": {
    "pycharm": {
     "name": "#%%\n"
    }
   },
   "outputs": [
    {
     "name": "stdout",
     "output_type": "stream",
     "text": [
      "['__all__', '__builtins__', '__cached__', '__doc__', '__file__', '__loader__', '__name__', '__package__', '__spec__', '_abspath_fallback', '_get_bothseps', '_getfinalpathname', '_getfinalpathname_nonstrict', '_getfullpathname', '_getvolumepathname', '_nt_readlink', '_readlink_deep', 'abspath', 'altsep', 'basename', 'commonpath', 'commonprefix', 'curdir', 'defpath', 'devnull', 'dirname', 'exists', 'expanduser', 'expandvars', 'extsep', 'genericpath', 'getatime', 'getctime', 'getmtime', 'getsize', 'isabs', 'isdir', 'isfile', 'islink', 'ismount', 'join', 'lexists', 'normcase', 'normpath', 'os', 'pardir', 'pathsep', 'realpath', 'relpath', 'samefile', 'sameopenfile', 'samestat', 'sep', 'split', 'splitdrive', 'splitext', 'stat', 'supports_unicode_filenames', 'sys']\n"
     ]
    }
   ],
   "source": [
    "import os.path\n",
    "print(dir(os.path))"
   ]
  },
  {
   "cell_type": "markdown",
   "metadata": {},
   "source": [
    "可以用```help```函数来查看被导入的模块中某个函数的介绍和用法："
   ]
  },
  {
   "cell_type": "code",
   "execution_count": 2,
   "metadata": {
    "pycharm": {
     "name": "#%%\n"
    }
   },
   "outputs": [
    {
     "name": "stdout",
     "output_type": "stream",
     "text": [
      "Help on function join in module ntpath:\n",
      "\n",
      "join(path, *paths)\n",
      "    # Join two (or more) paths.\n",
      "\n"
     ]
    }
   ],
   "source": [
    "import os.path\n",
    "help(os.path.join)"
   ]
  },
  {
   "cell_type": "markdown",
   "metadata": {
    "pycharm": {
     "name": "#%% md\n"
    }
   },
   "source": [
    "* 非交互式的模式\n",
    "\n",
    "可以将代码存储在后缀为(_.py_)的文件里面，然后打开命令行窗口并输入：\n",
    "\n",
    "```bash\n",
    "path-to-python.exe filename.py\n",
    "```\n",
    "\n",
    "* IDE模式\n",
    "推荐使用[PyCharm](https://www.jetbrains.com/pycharm/)。然后打开存有代码的Python文件并点击运行：\n",
    "\n",
    "<img src=\"./img/my_prog.png\"/>"
   ]
  }
 ],
 "metadata": {
  "kernelspec": {
   "display_name": "Python 3",
   "language": "python",
   "name": "python3"
  },
  "language_info": {
   "codemirror_mode": {
    "name": "ipython",
    "version": 3
   },
   "file_extension": ".py",
   "mimetype": "text/x-python",
   "name": "python",
   "nbconvert_exporter": "python",
   "pygments_lexer": "ipython3",
   "version": "3.8.5"
  }
 },
 "nbformat": 4,
 "nbformat_minor": 1
}